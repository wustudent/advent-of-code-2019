{
  "nbformat": 4,
  "nbformat_minor": 0,
  "metadata": {
    "colab": {
      "name": "Advent of Code 4.ipynb",
      "provenance": [],
      "include_colab_link": true
    },
    "kernelspec": {
      "name": "python3",
      "display_name": "Python 3"
    }
  },
  "cells": [
    {
      "cell_type": "markdown",
      "metadata": {
        "id": "view-in-github",
        "colab_type": "text"
      },
      "source": [
        "<a href=\"https://colab.research.google.com/github/wustudent/advent-of-code-2019/blob/master/Advent_of_Code_4.ipynb\" target=\"_parent\"><img src=\"https://colab.research.google.com/assets/colab-badge.svg\" alt=\"Open In Colab\"/></a>"
      ]
    },
    {
      "cell_type": "markdown",
      "metadata": {
        "id": "YEpgUqzNGZDO",
        "colab_type": "text"
      },
      "source": [
        "# Advent of Code Day 4:\n",
        "\n",
        "see [here](https://adventofcode.com/2019/day/4) for detail\n"
      ]
    },
    {
      "cell_type": "code",
      "metadata": {
        "id": "tkjNWlK6KN13",
        "colab_type": "code",
        "outputId": "bf6d8c92-b20f-4fa1-fbd7-b5cffadfd8ad",
        "colab": {
          "base_uri": "https://localhost:8080/",
          "height": 35
        }
      },
      "source": [
        "s = \"12345\"\n",
        "a = set([*s])\n",
        "# which is equal to set([x for x in s])\n",
        "print(len(a))"
      ],
      "execution_count": 0,
      "outputs": [
        {
          "output_type": "stream",
          "text": [
            "5\n"
          ],
          "name": "stdout"
        }
      ]
    },
    {
      "cell_type": "markdown",
      "metadata": {
        "id": "ZxSjBFY0TN8g",
        "colab_type": "text"
      },
      "source": [
        "## Part1 :"
      ]
    },
    {
      "cell_type": "code",
      "metadata": {
        "id": "oHzo6aLqGPiP",
        "colab_type": "code",
        "colab": {}
      },
      "source": [
        "def checkDouble(string):\n",
        "    return len(string) > len(set([*string]))\n",
        "def checkIncrease(string):\n",
        "    digitPre = int(string[0])\n",
        "    for s in string:\n",
        "        digitNow =  int(s)\n",
        "        if digitNow < digitPre:\n",
        "            return False\n",
        "        digitPre = digitNow\n",
        "    return True\n",
        "def judge(number):\n",
        "    string = str(number)\n",
        "    return checkIncrease(string) and checkDouble(string)"
      ],
      "execution_count": 0,
      "outputs": []
    },
    {
      "cell_type": "code",
      "metadata": {
        "id": "8KALJo4HP7S3",
        "colab_type": "code",
        "outputId": "2cd5295e-45c0-4017-9569-44f0ecfa3184",
        "colab": {
          "base_uri": "https://localhost:8080/",
          "height": 35
        }
      },
      "source": [
        "import numpy as np\n",
        "inputStr = \"359282-820401\"\n",
        "inputArr = inputStr.split('-')\n",
        "inputArr = [int(x) for x in inputArr]\n",
        "\n",
        "numberList = np.arange(inputArr[0],inputArr[1]).tolist()\n",
        "numbersMeetCriteria = list(filter(judge,numberList))\n",
        "print(len(numbersMeetCriteria))"
      ],
      "execution_count": 0,
      "outputs": [
        {
          "output_type": "stream",
          "text": [
            "511\n"
          ],
          "name": "stdout"
        }
      ]
    },
    {
      "cell_type": "markdown",
      "metadata": {
        "id": "ie4-AjTtTQeG",
        "colab_type": "text"
      },
      "source": [
        "Part2 :"
      ]
    },
    {
      "cell_type": "code",
      "metadata": {
        "id": "vvIsxOpdTSlO",
        "colab_type": "code",
        "outputId": "cf2159fa-5504-4754-d933-71af1502932e",
        "colab": {
          "base_uri": "https://localhost:8080/",
          "height": 35
        }
      },
      "source": [
        "def checkExactDouble(number):\n",
        "    string = str(number)\n",
        "    dic = {}\n",
        "    for s in string:\n",
        "        if dic.get(s) is None:\n",
        "            dic[s] = 1\n",
        "        else:\n",
        "            dic[s]+=1\n",
        "    for i in range(10):\n",
        "        if dic.get(str(i)) == 2:\n",
        "            return True\n",
        "    return False\n",
        "numbersMeetNewCriteria = list(filter(checkExactDouble,numbersMeetCriteria))\n",
        "print(len(numbersMeetNewCriteria))"
      ],
      "execution_count": 0,
      "outputs": [
        {
          "output_type": "stream",
          "text": [
            "316\n"
          ],
          "name": "stdout"
        }
      ]
    }
  ]
}
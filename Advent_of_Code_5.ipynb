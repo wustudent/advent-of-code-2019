{
  "nbformat": 4,
  "nbformat_minor": 0,
  "metadata": {
    "colab": {
      "name": "Advent of Code 5.ipynb",
      "provenance": [],
      "collapsed_sections": [],
      "include_colab_link": true
    },
    "kernelspec": {
      "name": "python3",
      "display_name": "Python 3"
    }
  },
  "cells": [
    {
      "cell_type": "markdown",
      "metadata": {
        "id": "view-in-github",
        "colab_type": "text"
      },
      "source": [
        "<a href=\"https://colab.research.google.com/github/wustudent/advent-of-code-2019/blob/master/Advent_of_Code_5.ipynb\" target=\"_parent\"><img src=\"https://colab.research.google.com/assets/colab-badge.svg\" alt=\"Open In Colab\"/></a>"
      ]
    },
    {
      "cell_type": "markdown",
      "metadata": {
        "id": "tWfXyvvijpMu",
        "colab_type": "text"
      },
      "source": [
        "# Advent of Code Day 5:\n",
        "\n",
        "see [here](https://adventofcode.com/2019/day/5) for detail\n",
        "\n",
        "It's easier to use OOP (Object Oriented Programming) for the solution.\n",
        "\n",
        "## Part 1:"
      ]
    },
    {
      "cell_type": "code",
      "metadata": {
        "id": "47NjjzwuwvPi",
        "colab_type": "code",
        "colab": {}
      },
      "source": [
        "class ComplexMachine:\n",
        "    # operation numbers should always be address\n",
        "    \n",
        "    instructionSet = {\n",
        "        '01':{\n",
        "            'name' : 'ADD',\n",
        "            'paramNum' : 3,\n",
        "            'op' : lambda self, opNums: self._write(opNums[2], self.ram[opNums[0]] + self.ram[opNums[1]])\n",
        "        },\n",
        "        '02':{\n",
        "            'name' : 'MUL',\n",
        "            'paramNum' : 3,\n",
        "            'op' : lambda self, opNums: self._write(opNums[2], self.ram[opNums[0]] * self.ram[opNums[1]])\n",
        "        },\n",
        "        '03':{\n",
        "            'name' : 'INPUT',\n",
        "            'paramNum' : 1,\n",
        "            'op' : lambda self, opNums: self._write(opNums[0], self.params.pop())\n",
        "        },\n",
        "        '04':{\n",
        "            'name' : 'OUTPUT',\n",
        "            'paramNum' : 1,\n",
        "            'op' : lambda self, opNums: self._output(self.ram[opNums[0]])\n",
        "        },          \n",
        "        '99':{\n",
        "            'name' : 'END',\n",
        "            'paramNum' : 0,\n",
        "            'op' : lambda self, x: None\n",
        "        }\n",
        "    }\n",
        "\n",
        "    \n",
        "    def reset(self):\n",
        "        self.ram = self.program.copy()\n",
        "        self.progPointer = 0\n",
        "    def __init__(self, program):\n",
        "        self.program = program.copy()\n",
        "        self.ram = program.copy()\n",
        "        self.progPointer = 0\n",
        "        self.params = []\n",
        "        self.results = []\n",
        "    def _decode(self):\n",
        "        #print('decode {}'.format(self.progPointer))\n",
        "        cmd = str(self.ram[self.progPointer])\n",
        "        if len(cmd)<5:  # normalize the command in 5 digits\n",
        "            cmd = '0'*(5-len(cmd)) + cmd\n",
        "        #print('command: {}'.format(cmd))\n",
        "        instructionCode = cmd[-2:]\n",
        "        instruction = self.instructionSet.get(instructionCode)\n",
        "        paramNum = instruction.get('paramNum')\n",
        "        op = instruction.get('op')\n",
        "        #print(instruction.get('name'))\n",
        "        opNums = []\n",
        "        for i in range(paramNum):\n",
        "            if cmd[-(i+3)] == '0' : # position mode\n",
        "                #print('position mode {}, value {}'.format(self.progPointer+i+1,self.ram[self.progPointer+i+1]))\n",
        "                address = self.ram[self.progPointer+i+1]\n",
        "                opNums.append(address)\n",
        "            else :  # immediate mode, address is itself\n",
        "                #print('immediate mode {}'.format(self.progPointer+i+1))\n",
        "                address = self.progPointer+i+1\n",
        "                opNums.append(address)\n",
        "        #print(opNums)\n",
        "        self.progPointer += paramNum+1\n",
        "        return op, opNums\n",
        "    def _execute(self, op, opNums):\n",
        "        return op(self, opNums)\n",
        "    def _write(self, address, value):\n",
        "        #print('write {} to address {} '.format(value, address))\n",
        "        self.ram[address] = value\n",
        "        return 0\n",
        "    def _output(self, value):\n",
        "        #print('output {}'.format(value))\n",
        "        self.results.append(value)\n",
        "        return 0\n",
        "    def run(self, params):\n",
        "        self.params = params.copy()\n",
        "        while 1:\n",
        "            op, opNums = self._decode()\n",
        "            if self._execute(op, opNums) is None:\n",
        "                break\n",
        "        return self.results"
      ],
      "execution_count": 0,
      "outputs": []
    },
    {
      "cell_type": "code",
      "metadata": {
        "id": "J_KZZ_0CIdE-",
        "colab_type": "code",
        "outputId": "dfebba4e-b9d5-4d77-8000-db9e2a3d9659",
        "colab": {
          "base_uri": "https://localhost:8080/",
          "height": 35
        }
      },
      "source": [
        "program = [3,225,1,225,6,6,1100,1,238,225,104,0,1001,191,50,224,101,-64,224,224,4,224,1002,223,8,223,101,5,224,224,1,224,223,223,2,150,218,224,1001,224,-1537,224,4,224,102,8,223,223,1001,224,2,224,1,223,224,223,1002,154,5,224,101,-35,224,224,4,224,1002,223,8,223,1001,224,5,224,1,224,223,223,1102,76,17,225,1102,21,44,224,1001,224,-924,224,4,224,102,8,223,223,1001,224,4,224,1,224,223,223,101,37,161,224,101,-70,224,224,4,224,1002,223,8,223,101,6,224,224,1,223,224,223,102,46,157,224,1001,224,-1978,224,4,224,102,8,223,223,1001,224,5,224,1,224,223,223,1102,5,29,225,1101,10,7,225,1101,43,38,225,1102,33,46,225,1,80,188,224,1001,224,-73,224,4,224,102,8,223,223,101,4,224,224,1,224,223,223,1101,52,56,225,1101,14,22,225,1101,66,49,224,1001,224,-115,224,4,224,1002,223,8,223,1001,224,7,224,1,224,223,223,1101,25,53,225,4,223,99,0,0,0,677,0,0,0,0,0,0,0,0,0,0,0,1105,0,99999,1105,227,247,1105,1,99999,1005,227,99999,1005,0,256,1105,1,99999,1106,227,99999,1106,0,265,1105,1,99999,1006,0,99999,1006,227,274,1105,1,99999,1105,1,280,1105,1,99999,1,225,225,225,1101,294,0,0,105,1,0,1105,1,99999,1106,0,300,1105,1,99999,1,225,225,225,1101,314,0,0,106,0,0,1105,1,99999,108,226,226,224,1002,223,2,223,1005,224,329,101,1,223,223,108,677,677,224,1002,223,2,223,1006,224,344,1001,223,1,223,8,677,677,224,102,2,223,223,1006,224,359,101,1,223,223,7,226,677,224,102,2,223,223,1005,224,374,101,1,223,223,107,226,226,224,102,2,223,223,1006,224,389,101,1,223,223,7,677,226,224,1002,223,2,223,1006,224,404,1001,223,1,223,1107,677,226,224,1002,223,2,223,1006,224,419,1001,223,1,223,1007,226,226,224,102,2,223,223,1005,224,434,101,1,223,223,1008,226,677,224,102,2,223,223,1005,224,449,1001,223,1,223,1007,677,677,224,1002,223,2,223,1006,224,464,1001,223,1,223,1008,226,226,224,102,2,223,223,1006,224,479,101,1,223,223,1007,226,677,224,1002,223,2,223,1005,224,494,1001,223,1,223,108,226,677,224,1002,223,2,223,1006,224,509,101,1,223,223,8,226,677,224,102,2,223,223,1005,224,524,1001,223,1,223,107,677,677,224,1002,223,2,223,1005,224,539,101,1,223,223,107,226,677,224,1002,223,2,223,1006,224,554,101,1,223,223,1107,226,677,224,1002,223,2,223,1006,224,569,1001,223,1,223,1108,677,226,224,102,2,223,223,1005,224,584,1001,223,1,223,1008,677,677,224,102,2,223,223,1005,224,599,1001,223,1,223,1107,677,677,224,102,2,223,223,1006,224,614,101,1,223,223,7,226,226,224,102,2,223,223,1005,224,629,1001,223,1,223,1108,677,677,224,102,2,223,223,1006,224,644,1001,223,1,223,8,677,226,224,1002,223,2,223,1005,224,659,101,1,223,223,1108,226,677,224,102,2,223,223,1005,224,674,101,1,223,223,4,223,99,226]\n",
        "\n",
        "machine = ComplexMachine(program)\n",
        "results = machine.run([1])\n",
        "print(results)"
      ],
      "execution_count": 0,
      "outputs": [
        {
          "output_type": "stream",
          "text": [
            "[0, 0, 0, 0, 0, 0, 0, 0, 0, 11193703]\n"
          ],
          "name": "stdout"
        }
      ]
    },
    {
      "cell_type": "markdown",
      "metadata": {
        "id": "fTXAXfXzkkL3",
        "colab_type": "text"
      },
      "source": [
        "## Part 2:\n",
        "\n",
        "extending the instruction set (kind of creating patch to the machine)"
      ]
    },
    {
      "cell_type": "code",
      "metadata": {
        "id": "nSLuE7xF8d7H",
        "colab_type": "code",
        "colab": {}
      },
      "source": [
        "class ComplexMachineExtended(ComplexMachine):\n",
        "    extendedInstructions = {\n",
        "        '05':{\n",
        "            'name' : 'jump-if-true',\n",
        "            'paramNum' : 2,\n",
        "            'op' : lambda self, opNums: self._jump(self.ram[opNums[1]]) if self.ram[opNums[0]]!=0 else 0\n",
        "        },\n",
        "        '06':{\n",
        "            'name' : 'jump-if-false',\n",
        "            'paramNum' : 2,\n",
        "            'op' : lambda self, opNums: self._jump(self.ram[opNums[1]]) if self.ram[opNums[0]]==0 else 0\n",
        "        },\n",
        "        '07':{\n",
        "            'name' : 'less than',\n",
        "            'paramNum' : 3,\n",
        "            'op' : lambda self, opNums: self._write(opNums[2], 1) if self.ram[opNums[0]] < self.ram[opNums[1]] else self._write(opNums[2], 0)\n",
        "        },\n",
        "        '08':{\n",
        "            'name' : 'equals',\n",
        "            'paramNum' : 3,\n",
        "            'op' : lambda self, opNums: self._write(opNums[2], 1) if self.ram[opNums[0]] == self.ram[opNums[1]] else self._write(opNums[2], 0)\n",
        "        }\n",
        "    }\n",
        "    def __init__(self, program):\n",
        "        super().__init__(program)\n",
        "        self.instructionSet.update(self.extendedInstructions)\n",
        "    def _jump(self, address):\n",
        "        self.progPointer = address\n",
        "        return 0"
      ],
      "execution_count": 0,
      "outputs": []
    },
    {
      "cell_type": "code",
      "metadata": {
        "id": "YrZRyrSuA6DE",
        "colab_type": "code",
        "outputId": "f52075c3-832c-4acc-fa9a-10ee064dc668",
        "colab": {
          "base_uri": "https://localhost:8080/",
          "height": 35
        }
      },
      "source": [
        "#program = [3,225,1,225,6,6,1100,1,238,225,104,0,1001,191,50,224,101,-64,224,224,4,224,1002,223,8,223,101,5,224,224,1,224,223,223,2,150,218,224,1001,224,-1537,224,4,224,102,8,223,223,1001,224,2,224,1,223,224,223,1002,154,5,224,101,-35,224,224,4,224,1002,223,8,223,1001,224,5,224,1,224,223,223,1102,76,17,225,1102,21,44,224,1001,224,-924,224,4,224,102,8,223,223,1001,224,4,224,1,224,223,223,101,37,161,224,101,-70,224,224,4,224,1002,223,8,223,101,6,224,224,1,223,224,223,102,46,157,224,1001,224,-1978,224,4,224,102,8,223,223,1001,224,5,224,1,224,223,223,1102,5,29,225,1101,10,7,225,1101,43,38,225,1102,33,46,225,1,80,188,224,1001,224,-73,224,4,224,102,8,223,223,101,4,224,224,1,224,223,223,1101,52,56,225,1101,14,22,225,1101,66,49,224,1001,224,-115,224,4,224,1002,223,8,223,1001,224,7,224,1,224,223,223,1101,25,53,225,4,223,99,0,0,0,677,0,0,0,0,0,0,0,0,0,0,0,1105,0,99999,1105,227,247,1105,1,99999,1005,227,99999,1005,0,256,1105,1,99999,1106,227,99999,1106,0,265,1105,1,99999,1006,0,99999,1006,227,274,1105,1,99999,1105,1,280,1105,1,99999,1,225,225,225,1101,294,0,0,105,1,0,1105,1,99999,1106,0,300,1105,1,99999,1,225,225,225,1101,314,0,0,106,0,0,1105,1,99999,108,226,226,224,1002,223,2,223,1005,224,329,101,1,223,223,108,677,677,224,1002,223,2,223,1006,224,344,1001,223,1,223,8,677,677,224,102,2,223,223,1006,224,359,101,1,223,223,7,226,677,224,102,2,223,223,1005,224,374,101,1,223,223,107,226,226,224,102,2,223,223,1006,224,389,101,1,223,223,7,677,226,224,1002,223,2,223,1006,224,404,1001,223,1,223,1107,677,226,224,1002,223,2,223,1006,224,419,1001,223,1,223,1007,226,226,224,102,2,223,223,1005,224,434,101,1,223,223,1008,226,677,224,102,2,223,223,1005,224,449,1001,223,1,223,1007,677,677,224,1002,223,2,223,1006,224,464,1001,223,1,223,1008,226,226,224,102,2,223,223,1006,224,479,101,1,223,223,1007,226,677,224,1002,223,2,223,1005,224,494,1001,223,1,223,108,226,677,224,1002,223,2,223,1006,224,509,101,1,223,223,8,226,677,224,102,2,223,223,1005,224,524,1001,223,1,223,107,677,677,224,1002,223,2,223,1005,224,539,101,1,223,223,107,226,677,224,1002,223,2,223,1006,224,554,101,1,223,223,1107,226,677,224,1002,223,2,223,1006,224,569,1001,223,1,223,1108,677,226,224,102,2,223,223,1005,224,584,1001,223,1,223,1008,677,677,224,102,2,223,223,1005,224,599,1001,223,1,223,1107,677,677,224,102,2,223,223,1006,224,614,101,1,223,223,7,226,226,224,102,2,223,223,1005,224,629,1001,223,1,223,1108,677,677,224,102,2,223,223,1006,224,644,1001,223,1,223,8,677,226,224,1002,223,2,223,1005,224,659,101,1,223,223,1108,226,677,224,102,2,223,223,1005,224,674,101,1,223,223,4,223,99,226]\n",
        "\n",
        "machine = ComplexMachineExtended(program)\n",
        "results = machine.run([5])\n",
        "print(results)"
      ],
      "execution_count": 0,
      "outputs": [
        {
          "output_type": "stream",
          "text": [
            "[12410607]\n"
          ],
          "name": "stdout"
        }
      ]
    }
  ]
}
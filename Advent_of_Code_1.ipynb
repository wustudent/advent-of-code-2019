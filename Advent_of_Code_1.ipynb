{
  "nbformat": 4,
  "nbformat_minor": 0,
  "metadata": {
    "colab": {
      "name": "Advent of Code 1.ipynb",
      "provenance": [],
      "collapsed_sections": [],
      "include_colab_link": true
    },
    "kernelspec": {
      "name": "python3",
      "display_name": "Python 3"
    }
  },
  "cells": [
    {
      "cell_type": "markdown",
      "metadata": {
        "id": "view-in-github",
        "colab_type": "text"
      },
      "source": [
        "<a href=\"https://colab.research.google.com/github/wustudent/advent-of-code-2019/blob/master/Advent_of_Code_1.ipynb\" target=\"_parent\"><img src=\"https://colab.research.google.com/assets/colab-badge.svg\" alt=\"Open In Colab\"/></a>"
      ]
    },
    {
      "cell_type": "markdown",
      "metadata": {
        "id": "I00s9PrQQCW3",
        "colab_type": "text"
      },
      "source": [
        "# Advent of Code Day 1:\n",
        "\n",
        "see [here](https://adventofcode.com/2019/day/1) for detail\n",
        "\n",
        "## Part 1:"
      ]
    },
    {
      "cell_type": "code",
      "metadata": {
        "id": "3gX5Mrs1OE5U",
        "colab_type": "code",
        "outputId": "759abd09-b94b-417c-9dd7-a18b3fcb84a1",
        "colab": {
          "base_uri": "https://localhost:8080/",
          "height": 35
        }
      },
      "source": [
        "input=[56123,145192,123702,66722,148748,53337,147279,126828,118438,54030,145839,87751,58832,90085,113196,104802,61235,136935,108620,60795,107908,123023,142399,131074,123411,122653,84776,100891,78816,62762,92077,91428,56831,65122,94694,78668,112506,73406,118239,57897,59200,54437,55185,102667,86076,80655,83406,141502,67171,88472,149260,68395,56828,108798,125682,68203,118263,101824,94853,68536,95646,120283,135355,82701,92243,122282,55760,129959,142814,56599,70836,69996,85262,126648,69043,67460,119934,82453,147012,72957,53374,97577,59696,121630,122666,116591,145967,75699,85963,140970,75612,78792,100795,92034,132569,117172,134179,109504,103707,54664]\n",
        "\n",
        "def calcFuel(x):\n",
        "    return x//3-2\n",
        "\n",
        "print(sum(map(calcFuel,input)))"
      ],
      "execution_count": 0,
      "outputs": [
        {
          "output_type": "stream",
          "text": [
            "3223398\n"
          ],
          "name": "stdout"
        }
      ]
    },
    {
      "cell_type": "markdown",
      "metadata": {
        "id": "4P13HgaqQfeg",
        "colab_type": "text"
      },
      "source": [
        "## Part 2:"
      ]
    },
    {
      "cell_type": "code",
      "metadata": {
        "id": "9EyaBNCHPfZA",
        "colab_type": "code",
        "outputId": "21da1f43-dbed-4629-cf91-6c3e2c8ad814",
        "colab": {
          "base_uri": "https://localhost:8080/",
          "height": 35
        }
      },
      "source": [
        "def calcExtra(x):\n",
        "    sum = 0\n",
        "    t = x\n",
        "    while t>0:\n",
        "        t = calcFuel(t)\n",
        "        if t>0:\n",
        "            sum+=t\n",
        "    return sum\n",
        "\n",
        "print(sum(map(calcExtra,input)))"
      ],
      "execution_count": 0,
      "outputs": [
        {
          "output_type": "stream",
          "text": [
            "4832253\n"
          ],
          "name": "stdout"
        }
      ]
    }
  ]
}
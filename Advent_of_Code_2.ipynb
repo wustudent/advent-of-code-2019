{
  "nbformat": 4,
  "nbformat_minor": 0,
  "metadata": {
    "colab": {
      "name": "Advent of Code 2.ipynb",
      "provenance": [],
      "collapsed_sections": [],
      "include_colab_link": true
    },
    "kernelspec": {
      "name": "python3",
      "display_name": "Python 3"
    }
  },
  "cells": [
    {
      "cell_type": "markdown",
      "metadata": {
        "id": "view-in-github",
        "colab_type": "text"
      },
      "source": [
        "<a href=\"https://colab.research.google.com/github/wustudent/advent-of-code-2019/blob/master/Advent_of_Code_2.ipynb\" target=\"_parent\"><img src=\"https://colab.research.google.com/assets/colab-badge.svg\" alt=\"Open In Colab\"/></a>"
      ]
    },
    {
      "cell_type": "markdown",
      "metadata": {
        "id": "tWfXyvvijpMu",
        "colab_type": "text"
      },
      "source": [
        "# Advent of Code Day 2:\n",
        "\n",
        "see [here](https://adventofcode.com/2019/day/2) for detail\n",
        "\n",
        "It's easier to use OOP (Object Oriented Programming) for the solution.\n",
        "\n",
        "## Part 1:"
      ]
    },
    {
      "cell_type": "code",
      "metadata": {
        "id": "1Si-ZuT2FEVi",
        "colab_type": "code",
        "colab": {}
      },
      "source": [
        "class IntMachine:\n",
        "    def __init__(self, program):\n",
        "        # make sure to make a copy that you will not destory the origin program:\n",
        "        self.program = program.copy()\n",
        "        self.opPointer = 0\n",
        "        self.destPointer = 0\n",
        "\n",
        "    def readCmd(self):\n",
        "        switcher = {\n",
        "            1: \"+\",\n",
        "            2: \"*\",\n",
        "            99: None\n",
        "        }\n",
        "        return switcher.get(self.program[self.opPointer], None)\n",
        "\n",
        "    def readData(self):\n",
        "        data1 = self.program[self.program[self.opPointer+1]]\n",
        "        data2 = self.program[self.program[self.opPointer+2]]\n",
        "        self.destPointer = self.program[self.opPointer+3]\n",
        "        return data1, data2\n",
        "    \n",
        "    def executeCmd(self):\n",
        "        op = self.readCmd()\n",
        "        if op is None:\n",
        "            return 0\n",
        "        else:\n",
        "            data1, data2 = self.readData()\n",
        "            # here this eval function is quite good:\n",
        "            self.program[self.destPointer] = eval(str(data1)+op+str(data2))\n",
        "            self.opPointer += 4\n",
        "            return 1\n",
        "    \n",
        "    def run(self):\n",
        "        while self.executeCmd():\n",
        "            pass\n",
        "        return self.program\n"
      ],
      "execution_count": 0,
      "outputs": []
    },
    {
      "cell_type": "code",
      "metadata": {
        "id": "J_KZZ_0CIdE-",
        "colab_type": "code",
        "outputId": "7c851182-ce0f-494e-9a92-d50082083961",
        "colab": {
          "base_uri": "https://localhost:8080/",
          "height": 35
        }
      },
      "source": [
        "program = [1,0,0,3,1,1,2,3,1,3,4,3,1,5,0,3,2,1,10,19,1,19,5,23,2,23,9,27,1,5,27,31,1,9,31,35,1,35,10,39,2,13,39,43,1,43,9,47,1,47,9,51,1,6,51,55,1,13,55,59,1,59,13,63,1,13,63,67,1,6,67,71,1,71,13,75,2,10,75,79,1,13,79,83,1,83,10,87,2,9,87,91,1,6,91,95,1,9,95,99,2,99,10,103,1,103,5,107,2,6,107,111,1,111,6,115,1,9,115,119,1,9,119,123,2,10,123,127,1,127,5,131,2,6,131,135,1,135,5,139,1,9,139,143,2,143,13,147,1,9,147,151,1,151,2,155,1,9,155,0,99,2,0,14,0]\n",
        "\n",
        "# replace 1202:\n",
        "program[1]=12\n",
        "program[2]=2\n",
        "\n",
        "machine = IntMachine(program)\n",
        "\n",
        "result = machine.run()\n",
        "\n",
        "\n",
        "print(result[0])\n",
        "#print(program[0]) # this will give 1 out, which makes me sure that I've not destory the original program"
      ],
      "execution_count": 0,
      "outputs": [
        {
          "output_type": "stream",
          "text": [
            "3101878\n"
          ],
          "name": "stdout"
        }
      ]
    },
    {
      "cell_type": "markdown",
      "metadata": {
        "id": "fTXAXfXzkkL3",
        "colab_type": "text"
      },
      "source": [
        "## Part 2:\n",
        "\n",
        "generator is a good thing to try if there are multiple answers:"
      ]
    },
    {
      "cell_type": "code",
      "metadata": {
        "id": "qXSoHrKVfYFv",
        "colab_type": "code",
        "outputId": "5e984cc3-bcd8-48b4-986d-dfbb9a63cbaf",
        "colab": {
          "base_uri": "https://localhost:8080/",
          "height": 35
        }
      },
      "source": [
        "def generator():\n",
        "    for i in range(10):\n",
        "        for j in range(10):\n",
        "            if i+j==10:\n",
        "                yield i,j\n",
        "\n",
        "a = list(generator())\n",
        "\n",
        "\n",
        "print(a)\n"
      ],
      "execution_count": 0,
      "outputs": [
        {
          "output_type": "stream",
          "text": [
            "[(1, 9), (2, 8), (3, 7), (4, 6), (5, 5), (6, 4), (7, 3), (8, 2), (9, 1)]\n"
          ],
          "name": "stdout"
        }
      ]
    },
    {
      "cell_type": "markdown",
      "metadata": {
        "id": "0Mi6lS3ik0NM",
        "colab_type": "text"
      },
      "source": [
        "Here we replace the numbers at 1st and 2nd position with the loops:"
      ]
    },
    {
      "cell_type": "code",
      "metadata": {
        "id": "fLcPij1IhAGV",
        "colab_type": "code",
        "colab": {}
      },
      "source": [
        "def findPair(program):\n",
        "    for noun in range(100):\n",
        "        for verb in range(100):\n",
        "            program[1]=noun\n",
        "            program[2]=verb\n",
        "            machine = IntMachine(program)\n",
        "            result = machine.run()\n",
        "            if result[0] == 19690720:\n",
        "                yield 100*noun+verb"
      ],
      "execution_count": 0,
      "outputs": []
    },
    {
      "cell_type": "code",
      "metadata": {
        "id": "GIwpYHypgIsl",
        "colab_type": "code",
        "outputId": "3f68aab6-03a2-44d3-f81d-58b8d351a234",
        "colab": {
          "base_uri": "https://localhost:8080/",
          "height": 35
        }
      },
      "source": [
        "program = [1,0,0,3,1,1,2,3,1,3,4,3,1,5,0,3,2,1,10,19,1,19,5,23,2,23,9,27,1,5,27,31,1,9,31,35,1,35,10,39,2,13,39,43,1,43,9,47,1,47,9,51,1,6,51,55,1,13,55,59,1,59,13,63,1,13,63,67,1,6,67,71,1,71,13,75,2,10,75,79,1,13,79,83,1,83,10,87,2,9,87,91,1,6,91,95,1,9,95,99,2,99,10,103,1,103,5,107,2,6,107,111,1,111,6,115,1,9,115,119,1,9,119,123,2,10,123,127,1,127,5,131,2,6,131,135,1,135,5,139,1,9,139,143,2,143,13,147,1,9,147,151,1,151,2,155,1,9,155,0,99,2,0,14,0]\n",
        "\n",
        "result = list(findPair(program))\n",
        "\n",
        "print(result)"
      ],
      "execution_count": 0,
      "outputs": [
        {
          "output_type": "stream",
          "text": [
            "[8444]\n"
          ],
          "name": "stdout"
        }
      ]
    }
  ]
}